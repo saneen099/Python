{
 "cells": [
  {
   "cell_type": "code",
   "execution_count": 2,
   "id": "4d7bd76e-94d0-4efe-9455-5b04046e181d",
   "metadata": {},
   "outputs": [
    {
     "name": "stdout",
     "output_type": "stream",
     "text": [
      " | | \n",
      "-+-+-\n",
      " | | \n",
      "-+-+-\n",
      " | | \n",
      "Its your turn X.Move to which place ?\n"
     ]
    },
    {
     "name": "stdin",
     "output_type": "stream",
     "text": [
      " 1\n"
     ]
    },
    {
     "name": "stdout",
     "output_type": "stream",
     "text": [
      " | | \n",
      "-+-+-\n",
      " | | \n",
      "-+-+-\n",
      "X| | \n",
      "Its your turn 0.Move to which place ?\n"
     ]
    },
    {
     "name": "stdin",
     "output_type": "stream",
     "text": [
      " 5\n"
     ]
    },
    {
     "name": "stdout",
     "output_type": "stream",
     "text": [
      " | | \n",
      "-+-+-\n",
      " |0| \n",
      "-+-+-\n",
      "X| | \n",
      "Its your turn X.Move to which place ?\n"
     ]
    },
    {
     "name": "stdin",
     "output_type": "stream",
     "text": [
      " 2\n"
     ]
    },
    {
     "name": "stdout",
     "output_type": "stream",
     "text": [
      " | | \n",
      "-+-+-\n",
      " |0| \n",
      "-+-+-\n",
      "X|X| \n",
      "Its your turn 0.Move to which place ?\n"
     ]
    },
    {
     "name": "stdin",
     "output_type": "stream",
     "text": [
      " 3\n"
     ]
    },
    {
     "name": "stdout",
     "output_type": "stream",
     "text": [
      " | | \n",
      "-+-+-\n",
      " |0| \n",
      "-+-+-\n",
      "X|X|0\n",
      "Its your turn X.Move to which place ?\n"
     ]
    },
    {
     "name": "stdin",
     "output_type": "stream",
     "text": [
      " 1\n"
     ]
    },
    {
     "name": "stdout",
     "output_type": "stream",
     "text": [
      "That place is already filled .\n",
      "Move to which place ?\n",
      " | | \n",
      "-+-+-\n",
      " |0| \n",
      "-+-+-\n",
      "X|X|0\n",
      "Its your turn X.Move to which place ?\n"
     ]
    },
    {
     "name": "stdin",
     "output_type": "stream",
     "text": [
      " 7\n"
     ]
    },
    {
     "name": "stdout",
     "output_type": "stream",
     "text": [
      "X| | \n",
      "-+-+-\n",
      " |0| \n",
      "-+-+-\n",
      "X|X|0\n",
      "Its your turn 0.Move to which place ?\n"
     ]
    },
    {
     "name": "stdin",
     "output_type": "stream",
     "text": [
      " 8\n"
     ]
    },
    {
     "name": "stdout",
     "output_type": "stream",
     "text": [
      "X|0| \n",
      "-+-+-\n",
      " |0| \n",
      "-+-+-\n",
      "X|X|0\n",
      "Its your turn X.Move to which place ?\n"
     ]
    },
    {
     "name": "stdin",
     "output_type": "stream",
     "text": [
      " 4\n"
     ]
    },
    {
     "name": "stdout",
     "output_type": "stream",
     "text": [
      "X|0| \n",
      "-+-+-\n",
      "X|0| \n",
      "-+-+-\n",
      "X|X|0\n",
      "\n",
      "Game Over.\n",
      "\n",
      " **** Xwon. ****\n"
     ]
    },
    {
     "name": "stdin",
     "output_type": "stream",
     "text": [
      "Do want to play again ? (yes/no) no\n"
     ]
    }
   ],
   "source": [
    "theBoard = {'7': ' ' , '8': ' ' , '9': ' ' ,\n",
    "            '4': ' ' , '5': ' ' , '6': ' ' ,\n",
    "            '1': ' ' , '2': ' ' , '3': ' ' }\n",
    "board_keys = []\n",
    "for key in theBoard:\n",
    "    board_keys.append(key)\n",
    "def printBoard(board):\n",
    "    print(board['7'] + '|' + board['8'] + '|' + board['9'])\n",
    "    print('-+-+-')\n",
    "    print(board['4'] + '|' + board['5'] + '|' + board['6'])\n",
    "    print('-+-+-')\n",
    "    print(board['1'] + '|' + board['2'] + '|' + board['3'])\n",
    "def game():\n",
    "    turn = 'X'\n",
    "    count = 0\n",
    "    for i in range(10):\n",
    "        printBoard(theBoard)\n",
    "        print('Its your turn ' +turn + '.Move to which place ?')\n",
    "        move = input()\n",
    "        if theBoard[move] ==' ' :\n",
    "            theBoard[move] = turn\n",
    "            count +=1\n",
    "        else:\n",
    "            print('That place is already filled .\\nMove to which place ?')\n",
    "            continue\n",
    "        if count >=5:\n",
    "            if theBoard['7'] == theBoard['8'] == theBoard['9'] !=' ':\n",
    "                printBoard(theBoard)\n",
    "                print('\\nGame Over.\\n')\n",
    "                print(' **** ' +turn + ' won. ****')\n",
    "                break\n",
    "            elif theBoard['4'] == theBoard['5'] == theBoard['6'] !=' ':\n",
    "                printBoard(theBoard)\n",
    "                print('\\nGame Over.\\n')\n",
    "                print(' **** ' +turn + ' won. ****')\n",
    "                break\n",
    "            elif theBoard['1'] == theBoard['2'] == theBoard['3'] !=' ':\n",
    "                printBoard(theBoard)\n",
    "                print('\\nGame Over.\\n')\n",
    "                print(' **** ' +turn + ' won. ****')\n",
    "                break\n",
    "            elif theBoard['1'] == theBoard['4'] == theBoard['7'] !=' ':\n",
    "                printBoard(theBoard)\n",
    "                print('\\nGame Over.\\n')\n",
    "                print(' **** ' +turn + ' won. ****')\n",
    "                break\n",
    "            elif theBoard['2'] == theBoard['5'] == theBoard['8'] !=' ':\n",
    "                printBoard(theBoard)\n",
    "                print('\\nGame Over.\\n')\n",
    "                print(' **** ' +turn + ' won. ****')\n",
    "                break\n",
    "            elif theBoard['3'] == theBoard['6'] == theBoard['9'] !=' ':\n",
    "                printBoard(theBoard)\n",
    "                print('\\nGame Over.\\n')\n",
    "                print(' **** ' +turn + ' won. ****')\n",
    "                break\n",
    "            elif theBoard['7'] == theBoard['5'] == theBoard['3'] !=' ':\n",
    "                printBoard(theBoard)\n",
    "                print('\\nGame Over.\\n')\n",
    "                print(' **** ' +turn + ' won. ****')\n",
    "                break\n",
    "            elif theBoard['1'] == theBoard['5'] == theBoard['9'] !=' ':\n",
    "                printBoard(theBoard)\n",
    "                print('\\nGame Over.\\n')\n",
    "                print(' **** ' +turn + ' won. ****')\n",
    "                break\n",
    "        if count ==9:\n",
    "            print('\\nGame Over.\\n')\n",
    "            print('Its a Tie')\n",
    "        if turn =='X':\n",
    "            turn = '0'\n",
    "        else:\n",
    "            turn = 'X'\n",
    "    restart = input('Do want to play again ? (yes/no)')\n",
    "    if restart == 'yes' or restart == 'YES':\n",
    "        for key in board_keys:\n",
    "            theBoard[key] = \" \"\n",
    "        game()\n",
    "if __name__ == '__main__':\n",
    "    game()"
   ]
  }
 ],
 "metadata": {
  "kernelspec": {
   "display_name": "Python 3 (ipykernel)",
   "language": "python",
   "name": "python3"
  },
  "language_info": {
   "codemirror_mode": {
    "name": "ipython",
    "version": 3
   },
   "file_extension": ".py",
   "mimetype": "text/x-python",
   "name": "python",
   "nbconvert_exporter": "python",
   "pygments_lexer": "ipython3",
   "version": "3.12.4"
  }
 },
 "nbformat": 4,
 "nbformat_minor": 5
}
